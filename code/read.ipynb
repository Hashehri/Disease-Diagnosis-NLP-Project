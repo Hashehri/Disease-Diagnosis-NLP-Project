{
 "cells": [
  {
   "cell_type": "code",
   "execution_count": 1,
   "metadata": {},
   "outputs": [
    {
     "name": "stdout",
     "output_type": "stream",
     "text": [
      "83\n"
     ]
    }
   ],
   "source": [
    "import PyPDF2\n",
    "import numpy as np\n",
    "path = \"/Users/hs/Documents/SDAIA_DS_T5/Project04-NLP/experiments/EAR02.pdf\"\n",
    "ff = open( path , \"rb\")\n",
    "pdfReader = PyPDF2.PdfFileReader(ff)\n",
    "print(pdfReader.numPages)\n",
    "total_page = pdfReader.numPages"
   ]
  },
  {
   "cell_type": "code",
   "execution_count": null,
   "metadata": {},
   "outputs": [],
   "source": [
    "list_from_pdf =[]\n",
    "for page_num  in np.arange(0 , total_page):\n",
    "    pageObj = pdfReader.getPage(page_num)\n",
    "    list_from_pdf = list_from_pdf + [word.replace('\\n', '') for word in pageObj.extractText().split(\" \")]\n",
    "print(list_from_pdf)\n",
    "print(len(list_from_pdf))"
   ]
  },
  {
   "cell_type": "code",
   "execution_count": 3,
   "metadata": {},
   "outputs": [
    {
     "name": "stdout",
     "output_type": "stream",
     "text": [
      "No Pathophysiology\n",
      "No Diagnosis\n",
      "NO Complications\n"
     ]
    }
   ],
   "source": [
    "title_list1 = [\"Introduction\", \"EAR\", 'ASSESSMENT', 'AUDIOMETRIC', 'NOSE', 'THROAT', 'OTITIS' ,  ]\n",
    "title_list2 = [ 'Causes' , 'Complications' , 'Pathophysiology' , 'Signs' , 'Diagnosis' ]\n",
    "str = \"\"\n",
    "for index , word in enumerate(list_from_pdf):\n",
    "    if word in title_list1:\n",
    "        str = str + \"@@@\" + word + \"***\"\n",
    "    elif word in title_list2:\n",
    "        if word == \"Causes\" and list_from_pdf[index+1] == \"and\" and list_from_pdf[index+2] == 'Incidence':\n",
    "            str = str + \"@@@\" + word + \"***\"\n",
    "        elif word == \"Signs\" and list_from_pdf[index+1] == \"and\" and list_from_pdf[index+2] == 'Symptoms':\n",
    "            str = str + \"@@@\" + word + \"***\"\n",
    "        elif word == \"Complications\":\n",
    "            try:\n",
    "                if list_from_pdf[index+1][0].isupper():\n",
    "                    str = str + \"@@@\" + word + \"***\"\n",
    "            except:\n",
    "                print(\"NO Complications\")\n",
    "        elif word == \"Pathophysiology\":\n",
    "            try:\n",
    "                if list_from_pdf[index+1][0].isupper():\n",
    "                    str = str + \"@@@\" + word + \"***\"\n",
    "            except:\n",
    "                print('No Pathophysiology')\n",
    "        elif word == \"Diagnosis\" :\n",
    "            try:\n",
    "                if list_from_pdf[index+1][0].isupper():\n",
    "                    str = str + \"@@@\" + word + \"***\"\n",
    "            except:\n",
    "                print(\"No Diagnosis\")\n",
    "    else:\n",
    "        str = str + word + \" \"\n",
    "final_text_list = [word_list.split(\"***\") for word_list in str.split(\"@@@\")]"
   ]
  },
  {
   "cell_type": "code",
   "execution_count": null,
   "metadata": {},
   "outputs": [],
   "source": [
    "for num in np.arange(len(final_text_list)):\n",
    "    print(\"==================\")\n",
    "    print(final_text_list[num])"
   ]
  },
  {
   "cell_type": "code",
   "execution_count": null,
   "metadata": {},
   "outputs": [],
   "source": [
    "signs_and_diagnosis =[]\n",
    "for data in final_text_list:\n",
    "    tem_list = []\n",
    "    if data[0] == \"Signs\":\n",
    "        signs_and_diagnosis.append(data)\n",
    "    if data[0] == \"Diagnosis\":\n",
    "        signs_and_diagnosis.append(data)\n",
    "print(signs_and_diagnosis)"
   ]
  },
  {
   "cell_type": "code",
   "execution_count": 6,
   "metadata": {},
   "outputs": [],
   "source": [
    "import pandas as pd\n",
    "df_signs_and_diagnosis = pd.DataFrame(signs_and_diagnosis)"
   ]
  },
  {
   "cell_type": "code",
   "execution_count": 8,
   "metadata": {},
   "outputs": [],
   "source": [
    "df_signs_and_diagnosis.to_csv(\"df_signs_and_diagnosis.csv\" , index=False)"
   ]
  },
  {
   "cell_type": "code",
   "execution_count": null,
   "metadata": {},
   "outputs": [],
   "source": []
  }
 ],
 "metadata": {
  "interpreter": {
   "hash": "e20053a6a21f60b20031b0e753dd017cb749c39f38e8781debb23d87a774e1c7"
  },
  "kernelspec": {
   "display_name": "Python 3.9.2 64-bit ('.venv': venv)",
   "language": "python",
   "name": "python3"
  },
  "language_info": {
   "codemirror_mode": {
    "name": "ipython",
    "version": 3
   },
   "file_extension": ".py",
   "mimetype": "text/x-python",
   "name": "python",
   "nbconvert_exporter": "python",
   "pygments_lexer": "ipython3",
   "version": "3.9.2"
  },
  "orig_nbformat": 4
 },
 "nbformat": 4,
 "nbformat_minor": 2
}
