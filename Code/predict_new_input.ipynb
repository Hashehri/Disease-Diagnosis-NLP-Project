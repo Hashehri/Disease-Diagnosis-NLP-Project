{
 "cells": [
  {
   "cell_type": "markdown",
   "metadata": {},
   "source": [
    "## In this notebook, we will test the models that take a new input and predict/classify the disease"
   ]
  },
  {
   "cell_type": "code",
   "execution_count": 2,
   "metadata": {},
   "outputs": [],
   "source": [
    "import pandas as pd\n",
    "from sklearn.feature_extraction.text import CountVectorizer\n",
    "from sklearn.feature_extraction.text import TfidfVectorizer\n",
    "from sklearn.decomposition import TruncatedSVD\n",
    "from nltk.tokenize import word_tokenize\n",
    "from sklearn.linear_model import LogisticRegression\n",
    "import re\n",
    "import spacy\n",
    "import numpy \n",
    "from numpy import dot\n",
    "from numpy.linalg import norm\n",
    "nlp = spacy.load('en_core_web_sm')\n",
    "import pickle "
   ]
  },
  {
   "cell_type": "markdown",
   "metadata": {},
   "source": [
    "### Read the Data & pickle files"
   ]
  },
  {
   "cell_type": "code",
   "execution_count": 8,
   "metadata": {},
   "outputs": [],
   "source": [
    "# reading the stop words list with pickle\n",
    "with open ('stop_words.ob', 'rb') as fp:\n",
    "    domain_stop_word = pickle.load(fp)"
   ]
  },
  {
   "cell_type": "code",
   "execution_count": 10,
   "metadata": {},
   "outputs": [],
   "source": [
    "file_path = \"diseases_with_description.csv\"\n",
    "all_chapters = pd.read_csv(file_path)"
   ]
  },
  {
   "cell_type": "markdown",
   "metadata": {},
   "source": [
    "### Word Embedding"
   ]
  },
  {
   "cell_type": "code",
   "execution_count": 11,
   "metadata": {},
   "outputs": [
    {
     "name": "stderr",
     "output_type": "stream",
     "text": [
      "/Users/hs/Documents/SDAIA_DS_T5/Course_Material/NBM_Unsupervised_Gamma/curriculum/.venv/lib/python3.9/site-packages/sklearn/utils/deprecation.py:87: FutureWarning: Function get_feature_names is deprecated; get_feature_names is deprecated in 1.0 and will be removed in 1.2. Please use get_feature_names_out instead.\n",
      "  warnings.warn(msg, category=FutureWarning)\n"
     ]
    }
   ],
   "source": [
    "cv = CountVectorizer(stop_words=\"english\")\n",
    "cv_tfidf = TfidfVectorizer(stop_words=\"english\")\n",
    "\n",
    "X = cv.fit_transform(list(all_chapters.loc[:, 'Description' ]))\n",
    "X_tfidf = cv_tfidf.fit_transform(list(all_chapters.loc[:, 'Description' ]))\n",
    "\n",
    "df_cv = pd.DataFrame(X.toarray() , columns=cv.get_feature_names())\n",
    "df_tfidf = pd.DataFrame(X_tfidf.toarray() , columns=cv_tfidf.get_feature_names())"
   ]
  },
  {
   "cell_type": "markdown",
   "metadata": {},
   "source": [
    "### First-Step: Cosine Similarity"
   ]
  },
  {
   "cell_type": "code",
   "execution_count": 16,
   "metadata": {},
   "outputs": [
    {
     "name": "stdout",
     "output_type": "stream",
     "text": [
      "This is chpter number : 0 \n",
      "Cosin cv :    0.08085577841914385 \n",
      "Cosin TFIDF : 0.07214673217715502 \n",
      "This is chpter number : 1 \n",
      "Cosin cv :    0.11112511112516668 \n",
      "Cosin TFIDF : 0.106959402823985 \n",
      "This is chpter number : 2 \n",
      "Cosin cv :    0.0 \n",
      "Cosin TFIDF : 0.0 \n"
     ]
    }
   ],
   "source": [
    "cosine = lambda v1 , v2 : dot(v1 , v2) / (norm(v1) * norm(v2))\n",
    "\n",
    "new_text = [\"dizziness loss of balance  vomiting tinnitus of hearing in the high frequency range in one ear difficulty focusing your eyes \"]\n",
    "new_text_cv = cv.transform(new_text).toarray()[0]\n",
    "new_text_tfidf = cv_tfidf.transform(new_text).toarray()[0]\n",
    "\n",
    "for chpter_number in range(int(all_chapters.shape[0])):\n",
    "    print(f\"This is chpter number : {chpter_number} \")\n",
    "    print(f\"Cosin cv :    { cosine( df_cv.iloc[chpter_number]  , new_text_cv )} \")\n",
    "    print(f\"Cosin TFIDF : { cosine( df_tfidf.iloc[chpter_number]  , new_text_tfidf) } \")\n"
   ]
  },
  {
   "cell_type": "markdown",
   "metadata": {},
   "source": [
    "**As we can see from the previous output, we test sentences **(dizziness loss of balance  vomiting tinnitus of hearing in the high frequency range in one ear difficulty focusing your eyes)** which is a symptoms of disease.**\n",
    "\n",
    "***So, it's clear to see that the highest score is in chapter **Two** which is **Ear & Nose**. Then we will go with classification model of chapter two, to classify the new input and got the disease name***"
   ]
  },
  {
   "cell_type": "code",
   "execution_count": null,
   "metadata": {},
   "outputs": [],
   "source": []
  },
  {
   "cell_type": "markdown",
   "metadata": {},
   "source": [
    "### Second-Step: Predict the same new input, in the trained **nar_nose_model**"
   ]
  },
  {
   "cell_type": "code",
   "execution_count": 20,
   "metadata": {},
   "outputs": [],
   "source": [
    "file_path = \"ch13_label_sub_m1.csv\"\n",
    "df = pd.read_csv(file_path , names=[\"Label\", \"Disease\"])"
   ]
  },
  {
   "cell_type": "code",
   "execution_count": 21,
   "metadata": {},
   "outputs": [
    {
     "data": {
      "text/html": [
       "<div>\n",
       "<style scoped>\n",
       "    .dataframe tbody tr th:only-of-type {\n",
       "        vertical-align: middle;\n",
       "    }\n",
       "\n",
       "    .dataframe tbody tr th {\n",
       "        vertical-align: top;\n",
       "    }\n",
       "\n",
       "    .dataframe thead th {\n",
       "        text-align: right;\n",
       "    }\n",
       "</style>\n",
       "<table border=\"1\" class=\"dataframe\">\n",
       "  <thead>\n",
       "    <tr style=\"text-align: right;\">\n",
       "      <th></th>\n",
       "      <th>Label</th>\n",
       "      <th>Disease</th>\n",
       "    </tr>\n",
       "  </thead>\n",
       "  <tbody>\n",
       "    <tr>\n",
       "      <th>0</th>\n",
       "      <td>OTITIS EXTERNA</td>\n",
       "      <td>otitis externa characteristically produces exa...</td>\n",
       "    </tr>\n",
       "    <tr>\n",
       "      <th>1</th>\n",
       "      <td>BENIGN TUMORS OF THE EAR CANAL</td>\n",
       "      <td>ear tumor unless becomes case signof tumor tum...</td>\n",
       "    </tr>\n",
       "    <tr>\n",
       "      <th>2</th>\n",
       "      <td>OTITIS MEDIA</td>\n",
       "      <td>features suppurative otitis media throbbing be...</td>\n",
       "    </tr>\n",
       "    <tr>\n",
       "      <th>3</th>\n",
       "      <td>MASTOIDITIS</td>\n",
       "      <td>features ache tenderness mastoid process grade...</td>\n",
       "    </tr>\n",
       "    <tr>\n",
       "      <th>4</th>\n",
       "      <td>OTOSCLEROSIS</td>\n",
       "      <td>bone otic capsule immobilizes footplate normal...</td>\n",
       "    </tr>\n",
       "  </tbody>\n",
       "</table>\n",
       "</div>"
      ],
      "text/plain": [
       "                             Label  \\\n",
       "0                  OTITIS EXTERNA    \n",
       "1  BENIGN TUMORS OF THE EAR CANAL    \n",
       "2                    OTITIS MEDIA    \n",
       "3                     MASTOIDITIS    \n",
       "4                    OTOSCLEROSIS    \n",
       "\n",
       "                                             Disease  \n",
       "0  otitis externa characteristically produces exa...  \n",
       "1  ear tumor unless becomes case signof tumor tum...  \n",
       "2  features suppurative otitis media throbbing be...  \n",
       "3  features ache tenderness mastoid process grade...  \n",
       "4  bone otic capsule immobilizes footplate normal...  "
      ]
     },
     "execution_count": 21,
     "metadata": {},
     "output_type": "execute_result"
    }
   ],
   "source": [
    "def clean_text_func(text):\n",
    "    text = str(text)\n",
    "    text = text.lower()\n",
    "    # Clean the text\n",
    "    text = re.sub(r\"[^A-Za-z0-9^,!?.\\/'+]\", \" \", text)\n",
    "    text = re.sub(r\"\\+\", \" \", text)\n",
    "    text = re.sub(r\",\", \" \", text)\n",
    "    text = re.sub(r\"\\.\", \" \", text)\n",
    "    text = re.sub(r\"!\", \" \", text)\n",
    "    text = re.sub(r\"\\?\", \" \", text)\n",
    "    text = re.sub(r\"'\", \" \", text)\n",
    "    text = re.sub(r\":\", \" : \", text)\n",
    "    text = re.sub(r\"\\s{2,}\", \" \", text)\n",
    "    text = re.sub(r\"[0-9]\", \" \", text)\n",
    "    final_text = \"\"\n",
    "    for x in text.split():\n",
    "        if x not in domain_stop_word:\n",
    "            final_text = final_text + x  +\" \"\n",
    "    return final_text\n",
    "\n",
    "df['Disease'] = df['Disease'].apply(lambda x: clean_text_func(x))\n",
    "df.head()"
   ]
  },
  {
   "cell_type": "code",
   "execution_count": 25,
   "metadata": {},
   "outputs": [
    {
     "name": "stderr",
     "output_type": "stream",
     "text": [
      "/Users/hs/Documents/SDAIA_DS_T5/Course_Material/NBM_Unsupervised_Gamma/curriculum/.venv/lib/python3.9/site-packages/sklearn/utils/deprecation.py:87: FutureWarning: Function get_feature_names is deprecated; get_feature_names is deprecated in 1.0 and will be removed in 1.2. Please use get_feature_names_out instead.\n",
      "  warnings.warn(msg, category=FutureWarning)\n"
     ]
    },
    {
     "data": {
      "text/plain": [
       "LogisticRegression()"
      ]
     },
     "execution_count": 25,
     "metadata": {},
     "output_type": "execute_result"
    }
   ],
   "source": [
    "X_train = df.Disease\n",
    "y_train = df.Label\n",
    "\n",
    "cv1 = CountVectorizer()\n",
    "X_train_cv1 = cv1.fit_transform(X_train)\n",
    "pd_cv1 = pd.DataFrame(X_train_cv1.toarray(), columns=cv1.get_feature_names())\n",
    "\n",
    "nar_nose_model_lr = LogisticRegression()\n",
    "nar_nose_model_lr.fit(X_train_cv1, y_train)"
   ]
  },
  {
   "cell_type": "code",
   "execution_count": 26,
   "metadata": {},
   "outputs": [],
   "source": [
    "X_test = \"Difficulty sleeping or staying asleep Fever Fluid draining from ear  Loss of balance. Hearing difficulties. Ear pain\"\n",
    "cleaned_text = clean_text_func(X_test)\n",
    "\n",
    "X_test_cv3  = cv1.transform([cleaned_text])\n",
    "y_pred_cv3 = nar_nose_model_lr.predict(X_test_cv3)"
   ]
  },
  {
   "cell_type": "code",
   "execution_count": 27,
   "metadata": {},
   "outputs": [
    {
     "name": "stdout",
     "output_type": "stream",
     "text": [
      "['OTITIS MEDIA ']\n"
     ]
    }
   ],
   "source": [
    "print(y_pred_cv3)\n",
    "disease_name = y_pred_cv3"
   ]
  }
 ],
 "metadata": {
  "interpreter": {
   "hash": "e20053a6a21f60b20031b0e753dd017cb749c39f38e8781debb23d87a774e1c7"
  },
  "kernelspec": {
   "display_name": "Python 3.9.2 64-bit ('.venv': venv)",
   "language": "python",
   "name": "python3"
  },
  "language_info": {
   "codemirror_mode": {
    "name": "ipython",
    "version": 3
   },
   "file_extension": ".py",
   "mimetype": "text/x-python",
   "name": "python",
   "nbconvert_exporter": "python",
   "pygments_lexer": "ipython3",
   "version": "3.9.2"
  },
  "orig_nbformat": 4
 },
 "nbformat": 4,
 "nbformat_minor": 2
}
